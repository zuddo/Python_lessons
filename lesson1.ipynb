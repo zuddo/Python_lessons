{
 "cells": [
  {
   "cell_type": "markdown",
   "metadata": {},
   "source": [
    "1. Поработайте с переменными, создайте несколько, выведите на экран, запросите у пользователя несколько чисел и строк и сохраните в переменные, выведите на экран."
   ]
  },
  {
   "cell_type": "code",
   "execution_count": 3,
   "metadata": {},
   "outputs": [],
   "source": [
    "import re\n",
    "def get_phone_number():\n",
    "    while True:\n",
    "        try:\n",
    "            variable_number = int(input(\"Введите номер телефона: \"))\n",
    "            return variable_number    \n",
    "        except ValueError:\n",
    "            print(\"Вы ввели не число. Повторите ввод\")\n",
    "def get_name():\n",
    "    while True:\n",
    "\n",
    "        variable_name = input(\"Введите ваше имя: \")\n",
    "        if re.findall(\"\\d+?\", variable_name) == []:\n",
    "\n",
    "            return variable_name  \n",
    "\n",
    "        else:\n",
    "            print(\"Вы ввели не число. Повторите ввод\")\n",
    "\n",
    "    "
   ]
  },
  {
   "cell_type": "markdown",
   "metadata": {},
   "source": [
    "2. Пользователь вводит время в секундах. Переведите время в часы, минуты и секунды и выведите в формате чч:мм:сс. Используйте форматирование строк.\n"
   ]
  },
  {
   "cell_type": "code",
   "execution_count": 13,
   "metadata": {},
   "outputs": [
    {
     "name": "stdout",
     "output_type": "stream",
     "text": [
      "Введите время в секундах: 2131231\n",
      "Time is : 16:00:31\n"
     ]
    }
   ],
   "source": [
    "time = int(input(\"Введите время в секундах: \"))\n",
    "def convert_to_preferred_format(sec):\n",
    "    sec = sec % (24 * 3600) \n",
    "    hour = sec // 3600 \n",
    "    sec %= 3600 \n",
    "    min = sec // 60 \n",
    "    sec %= 60 \n",
    "    return \"%02d:%02d:%02d\" % (hour, min, sec) \n",
    "\n",
    "print(\"Time is :\",convert_to_preferred_format(time))\n"
   ]
  },
  {
   "cell_type": "markdown",
   "metadata": {},
   "source": [
    "3. Узнайте у пользователя число n. Найдите сумму чисел n + nn + nnn. Например, пользователь ввёл число 3. Считаем 3 + 33 + 333 = 369.\n"
   ]
  },
  {
   "cell_type": "code",
   "execution_count": 23,
   "metadata": {},
   "outputs": [
    {
     "name": "stdout",
     "output_type": "stream",
     "text": [
      "Введите число: 3\n",
      "Результат: 369\n"
     ]
    }
   ],
   "source": [
    "n = int(input(\"Введите число: \"))\n",
    "\n",
    "n1 = 2*n\n",
    "n2 = 3*n\n",
    "result = str(n) + str(n1) + str(n2)\n",
    "print(\"Результат:\", result)"
   ]
  },
  {
   "cell_type": "markdown",
   "metadata": {},
   "source": [
    "4. Пользователь вводит целое положительное число. Найдите самую большую цифру в числе. Для решения используйте цикл while и арифметические операции.\n"
   ]
  },
  {
   "cell_type": "code",
   "execution_count": 37,
   "metadata": {},
   "outputs": [
    {
     "name": "stdout",
     "output_type": "stream",
     "text": [
      "1222222222223121134492\n",
      "9\n"
     ]
    }
   ],
   "source": [
    "a = int(input())\n",
    "m = a%10\n",
    "a = a//10\n",
    "while a > 0:\n",
    "    if a%10 > m:\n",
    "        m = a%10\n",
    "    a = a//10\n",
    "print(m)"
   ]
  },
  {
   "cell_type": "markdown",
   "metadata": {},
   "source": [
    "5. Запросите у пользователя значения выручки и издержек фирмы. Определите, с каким финансовым результатом работает фирма (прибыль — выручка больше издержек, или убыток — издержки больше выручки). Выведите соответствующее сообщение. Если фирма отработала с прибылью, вычислите рентабельность выручки (соотношение прибыли к выручке). Далее запросите численность сотрудников фирмы и определите прибыль фирмы в расчете на одного сотрудника.\n"
   ]
  },
  {
   "cell_type": "code",
   "execution_count": 39,
   "metadata": {},
   "outputs": [
    {
     "name": "stdout",
     "output_type": "stream",
     "text": [
      " proceed: 21\n",
      " outlay: 2\n",
      "19 profitability\n",
      "How many people work: 22\n",
      "0.8636363636363636 for one worker\n"
     ]
    }
   ],
   "source": [
    "proceed = int(input(\" proceed: \"))\n",
    "outlay = int(input(\" outlay: \"))\n",
    "if proceed > outlay:\n",
    "    profitability = proceed-outlay\n",
    "    rent = profitability/proceed\n",
    "    print(f\"{profitability} profitability\")\n",
    "    worker = int(input(\"How many people work: \"))\n",
    "    print(f\"{profitability/worker} for one worker\")\n"
   ]
  },
  {
   "cell_type": "markdown",
   "metadata": {},
   "source": [
    "6. Спортсмен занимается ежедневными пробежками. В первый день его результат составил a километров. Каждый день спортсмен увеличивал результат на 10 % относительно предыдущего. Требуется определить номер дня, на который общий результат спортсмена составить не менее b километров. Программа должна принимать значения параметров a и b и выводить одно натуральное число — номер дня.\n",
    "Например: a = 2, b = 3.\n",
    "Результат:\n",
    "\n",
    "1-й день: 2\n",
    "2-й день: 2,2\n",
    "3-й день: 2,42\n",
    "4-й день: 2,66\n",
    "5-й день: 2,93\n",
    "6-й день: 3,22\n",
    "Ответ: на 6-й день спортсмен достиг результата — не менее 3 км."
   ]
  },
  {
   "cell_type": "code",
   "execution_count": null,
   "metadata": {},
   "outputs": [],
   "source": [
    "a = float(input(\"Enter start: \"))\n",
    "b = float(input(\"Enter end: \"))\n",
    "day = 1\n",
    "if a > b:\n",
    "    print(day)\n",
    "while a < b:\n",
    "    a = a + a/10\n",
    "    day += 1\n",
    "print(day)"
   ]
  },
  {
   "cell_type": "code",
   "execution_count": null,
   "metadata": {},
   "outputs": [],
   "source": []
  },
  {
   "cell_type": "code",
   "execution_count": null,
   "metadata": {},
   "outputs": [],
   "source": []
  }
 ],
 "metadata": {
  "kernelspec": {
   "display_name": "Python 3",
   "language": "python",
   "name": "python3"
  },
  "language_info": {
   "codemirror_mode": {
    "name": "ipython",
    "version": 3
   },
   "file_extension": ".py",
   "mimetype": "text/x-python",
   "name": "python",
   "nbconvert_exporter": "python",
   "pygments_lexer": "ipython3",
   "version": "3.7.4"
  }
 },
 "nbformat": 4,
 "nbformat_minor": 2

}
