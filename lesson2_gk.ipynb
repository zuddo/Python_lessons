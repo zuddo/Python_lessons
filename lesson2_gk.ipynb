{
 "cells": [
  {
   "cell_type": "code",
   "execution_count": null,
   "metadata": {},
   "outputs": [],
   "source": []
  },
  {
   "cell_type": "markdown",
   "metadata": {},
   "source": [
    " 1. Создать список и заполнить его элементами различных типов данных. Реализовать скрипт проверки типа данных каждого элемента."
   ]
  },
  {
   "cell_type": "code",
   "execution_count": 1,
   "metadata": {},
   "outputs": [
    {
     "name": "stdout",
     "output_type": "stream",
     "text": [
      "2132.2 is <class 'float'>\n",
      "string is <class 'str'>\n",
      "['2222', 'wefef'] is <class 'list'>\n",
      "3423 is <class 'int'>\n",
      "{'key1': 'value1', 'key2': 'value2'} is <class 'dict'>\n",
      "('value1', 'value2') is <class 'tuple'>\n"
     ]
    }
   ],
   "source": [
    "tuple_v = ('value1', 'value2')\n",
    "dict_v = {'key1': 'value1', 'key2': 'value2'}\n",
    "int_v = 3423\n",
    "float_v = 2132.2\n",
    "str_v = \"string\"\n",
    "list_v = ['2222', 'wefef']\n",
    "\n",
    "\n",
    "for i in [float_v, str_v, list_v, int_v, dict_v, tuple_v]:\n",
    "    print(f'{i} is {type(i)}')"
   ]
  },
  {
   "cell_type": "markdown",
   "metadata": {},
   "source": [
    "2. Для списка реализовать обмен значений соседних элементов, т.е. Значениями обмениваются элементы с индексами 0 и 1, 2 и 3 и т.д. При нечетном количестве элементов последний сохранить на своем месте. Для заполнения списка элементов необходимо использовать функцию input().\n"
   ]
  },
  {
   "cell_type": "code",
   "execution_count": 139,
   "metadata": {},
   "outputs": [
    {
     "name": "stdout",
     "output_type": "stream",
     "text": [
      "12345\n",
      "['1', '2', '3', '4', '5']\n",
      "['2', '1', '4', '3', '5']\n"
     ]
    }
   ],
   "source": [
    "my_list = list(input())\n",
    "print(my_list)\n",
    "for i in range(0, len (my_list)-1, 2):\n",
    "    el = my_list[i]\n",
    "    my_list[i] = my_list[i+1]\n",
    "    my_list[i+1] = el\n",
    "\n",
    "print(my_list)"
   ]
  },
  {
   "cell_type": "markdown",
   "metadata": {},
   "source": [
    "3. Пользователь вводит месяц в виде целого числа от 1 до 12. Сообщить к какому времени года относится месяц (зима, весна, лето, осень). Напишите решения через list и через dict."
   ]
  },
  {
   "cell_type": "code",
   "execution_count": 162,
   "metadata": {},
   "outputs": [
    {
     "name": "stdout",
     "output_type": "stream",
     "text": [
      "Enter month number: 12\n",
      "list: December\n",
      "dict: December\n"
     ]
    }
   ],
   "source": [
    "num= int(input(\"Enter month number: \"))\n",
    "if num in range(1,13,1):\n",
    "    month_dict = {1: 'January',\n",
    "                  2: 'February',\n",
    "                  3: 'March',\n",
    "                  4: 'April',\n",
    "                  5: 'May',\n",
    "                  6: 'June',\n",
    "                  7: 'Jule',\n",
    "                  8: 'August',\n",
    "                  9: 'September',\n",
    "                  10: 'October',\n",
    "                  11: 'November',\n",
    "                  12: 'December'}\n",
    "    month_list = list(month_dict.values())\n",
    "    for i, el in enumerate(month_list):\n",
    "        if i == num-1:\n",
    "            print(f\"list: {month_list[i]}\")\n",
    "            \n",
    "    print(f\"dict: {month_dict[num]}\")\n",
    "else:\n",
    "    print(\"error\")"
   ]
  },
  {
   "cell_type": "markdown",
   "metadata": {},
   "source": [
    "4. Пользователь вводит строку из нескольких слов, разделённых пробелами. Вывести каждое слово с новой строки. Строки необходимо пронумеровать. Если в слово длинное, выводить только первые 10 букв в слове.\n"
   ]
  },
  {
   "cell_type": "code",
   "execution_count": 167,
   "metadata": {},
   "outputs": [
    {
     "name": "stdout",
     "output_type": "stream",
     "text": [
      "Enter str: EEEEEEEEEEEEEEEEEEEE EEEEEEEEEE EEEEEEEEEEEEEEEEE E\n",
      "1  EEEEEEEEEE\n",
      "2  EEEEEEEEEE\n",
      "3  EEEEEEEEEE\n",
      "4  E\n"
     ]
    }
   ],
   "source": [
    "str_ = input(\"Enter str: \")\n",
    "a = str_.split(' ')\n",
    "for i, el in enumerate(a, 1):\n",
    "    if len(el) > 10:\n",
    "        el = el[0:10]\n",
    "    print(f\"{i}  {el}\")"
   ]
  },
  {
   "cell_type": "markdown",
   "metadata": {},
   "source": [
    "Реализовать структуру «Рейтинг», представляющую собой не возрастающий набор натуральных чисел. У пользователя необходимо запрашивать новый элемент рейтинга. Если в рейтинге существуют элементы с одинаковыми значениями, то новый элемент с тем же значением должен разместиться после них.\n"
   ]
  },
  {
   "cell_type": "code",
   "execution_count": 4,
   "metadata": {
    "scrolled": true
   },
   "outputs": [
    {
     "name": "stdout",
     "output_type": "stream",
     "text": [
      "Enter number: 0\n",
      "[7, 5, 3, 3, 2, 0]\n"
     ]
    }
   ],
   "source": [
    "number = int(input(\"Enter number: \"))\n",
    "my_list = [7, 5, 3, 3, 2]\n",
    "a = my_list.count(number)\n",
    "if a > 0:\n",
    "    my_list.insert(my_list.index(number)+a, number)\n",
    "else:                 \n",
    "    for i in my_list:\n",
    "        if    number > i:\n",
    "            my_list.insert(my_list.index(i), number)\n",
    "            break\n",
    "        else:\n",
    "            my_list.append(number)\n",
    "            break\n",
    "\n",
    "print(my_list)"
   ]
  },
  {
   "cell_type": "markdown",
   "metadata": {},
   "source": [
    "Реализовать структуру данных «Товары». Она должна представлять собой список кортежей. Каждый кортеж хранит информацию об отдельном товаре. В кортеже должно быть два элемента — номер товара и словарь с параметрами (характеристиками товара: название, цена, количество, единица измерения). Структуру нужно сформировать программно, т.е. запрашивать все данные у пользователя.\n",
    "Пример готовой структуры:\n",
    "[\n",
    "\n",
    "(1, {“название”: “компьютер”, “цена”: 20000, “количество”: 5, “eд”: “шт.”}),\n",
    "(2, {“название”: “принтер”, “цена”: 6000, “количество”: 2, “eд”: “шт.”}), \n",
    "(3, {“название”: “сканер”, “цена”: 2000, “количество”: 7, “eд”: “шт.”})\n",
    "\n",
    "]\n",
    "Необходимо собрать аналитику о товарах. Реализовать словарь, в котором каждый ключ — характеристика товара, например название, а значение — список значений-характеристик, например список названий товаров.\n",
    "Пример:\n",
    "{\n",
    "\n",
    "“название”: [“компьютер”, “принтер”, “сканер”],\n",
    "“цена”: [20000, 6000, 2000],\n",
    "“количество”: [5, 2, 7],\n",
    "“ед”: [“шт.”]"
   ]
  },
  {
   "cell_type": "code",
   "execution_count": 27,
   "metadata": {},
   "outputs": [
    {
     "name": "stdout",
     "output_type": "stream",
     "text": [
      "{'название': ['компьютер', 'принтер'], 'цена': ['20000', '6000'], 'количество': ['2']}\n"
     ]
    }
   ],
   "source": [
    "# goods = []\n",
    "# while input(\"add product? Enter 1/0: \") == '1':\n",
    "#     number = int(input(\"product number: \"))\n",
    "#     features = {}\n",
    "#     while input(\"add product parameters? Enter 1/0: \") == '1':\n",
    "#         feature_key = input(\"feature: \")\n",
    "#         feature_value = input(\"feature value: \")\n",
    "#         features[feature_key] = feature_value\n",
    "#     goods.append(tuple([number, features]))\n",
    "# print(goods)\n",
    "goods = [(1, {'название': 'компьютер', 'цена': '20000'}), (2, {'название': 'принтер', 'цена': '6000', 'количество': '2'})]\n",
    "analitics = {}\n",
    "for good in goods:\n",
    "    for feature_key, feature_value in good[1].items():\n",
    "        if feature_key in analitics:\n",
    "            analitics[feature_key].append(feature_value)\n",
    "        else:\n",
    "         analitics[feature_key] = [feature_value]\n",
    "print(analitics)"
   ]
  },
  {
   "cell_type": "code",
   "execution_count": null,
   "metadata": {},
   "outputs": [],
   "source": []
  }
 ],
 "metadata": {
  "kernelspec": {
   "display_name": "Python 3",
   "language": "python",
   "name": "python3"
  },
  "language_info": {
   "codemirror_mode": {
    "name": "ipython",
    "version": 3
   },
   "file_extension": ".py",
   "mimetype": "text/x-python",
   "name": "python",
   "nbconvert_exporter": "python",
   "pygments_lexer": "ipython3",
   "version": "3.7.4"
  }
 },
 "nbformat": 4,
 "nbformat_minor": 2
}
